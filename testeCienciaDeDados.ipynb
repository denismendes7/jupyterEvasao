{
 "cells": [
  {
   "attachments": {},
   "cell_type": "markdown",
   "id": "f79ac88e",
   "metadata": {},
   "source": [
    "Script de desafio de Ciência de Dados\n",
    "\n",
    "Analisar os dados e desenvolver uma solução\n",
    "usando Machine Learning visando identificar evasão de alunos.\n",
    "\n",
    "Necessário instalações:\n",
    "Jupyter notebook;\n",
    "Pandas;\n",
    "Numpy;\n",
    "Matplotlib;\n",
    "Seaborn;\n",
    "Sklearn;\n",
    "\n",
    "Os modelos utilizados para esse desafio foram \"Arvores de Decisão\" e \"Florestas Aleatórias\".Após análise, optei por esses tipos de modelos de classificação.\n",
    "\n",
    "obs: Devido a restrições de recursos da máquina, foi necessário utilizar amostragens dos dados durante os processos, visando reduzir a carga no uso do modelo.Apesar do modelo ter o problema de overfitting, consigo fazer os testes local sem muita demora no processo.Outros modelos de classificação testado, o tempo era maior devido os limites de recursos da máquina."
   ]
  },
  {
   "cell_type": "code",
   "execution_count": null,
   "id": "fbf99763",
   "metadata": {},
   "outputs": [],
   "source": [
    "#Importações necessárias\n",
    "import pandas as pd\n",
    "import numpy as np\n",
    "import matplotlib.pyplot as plt\n",
    "import seaborn as sns\n",
    "%matplotlib inline"
   ]
  },
  {
   "cell_type": "code",
   "execution_count": null,
   "id": "21834531",
   "metadata": {},
   "outputs": [],
   "source": [
    "from sklearn.tree import DecisionTreeClassifier\n",
    "from sklearn.ensemble import RandomForestClassifier\n",
    "from sklearn.model_selection import train_test_split\n",
    "from sklearn.metrics import accuracy_score,classification_report, confusion_matrix,  precision_score, f1_score\n"
   ]
  },
  {
   "cell_type": "code",
   "execution_count": null,
   "id": "a2432595",
   "metadata": {},
   "outputs": [],
   "source": []
  },
  {
   "cell_type": "code",
   "execution_count": null,
   "id": "b1359074",
   "metadata": {},
   "outputs": [],
   "source": [
    "#Leitura dos dados \n",
    "aluno = pd.read_csv('alunos_teste.csv')\n",
    "alunoSample = aluno.sample(frac=0.001, random_state=50)\n"
   ]
  },
  {
   "cell_type": "code",
   "execution_count": null,
   "id": "2df8c6d2",
   "metadata": {},
   "outputs": [],
   "source": [
    "#Leitura dos dados \n",
    "provas = pd.read_csv('provas_teste.csv')\n",
    "provasSample = provas.sample(frac=0.001, random_state=50)\n"
   ]
  },
  {
   "cell_type": "code",
   "execution_count": null,
   "id": "af87f2b3",
   "metadata": {},
   "outputs": [],
   "source": [
    "#Leitura dos dados \n",
    "acessos = pd.read_csv('acessos_conteudo_teste.csv')\n",
    "acessosSample = acessos.sample(frac=0.001, random_state=50)\n",
    "acessos = acessosSample.drop([\"DATA_HORA_ACESSO\"] ,axis= 1)\n",
    "#Para utilizar mais dados, altere a quantidade da amostragem "
   ]
  },
  {
   "cell_type": "code",
   "execution_count": null,
   "id": "d6855990",
   "metadata": {},
   "outputs": [],
   "source": [
    "g = sns.PairGrid(acessosSample, diag_sharey=False)\n",
    "g.map_upper(sns.scatterplot, s=15)\n",
    "g.map_lower(sns.kdeplot)\n",
    "g.map_diag(sns.kdeplot, lw=2)"
   ]
  },
  {
   "cell_type": "code",
   "execution_count": null,
   "id": "03bb223f",
   "metadata": {},
   "outputs": [],
   "source": [
    "#Agrupando DF de matrículas e disciplinas com o DF de provas;\n",
    "#Filtrando  a relação entre alunos e o tipo de prova que foi realizado por cada aluno-disciplina;\n",
    "\n",
    "merged_df = aluno.merge( provas, on=['MATRICULA', 'DISCIPLINA'], how='inner')\n",
    "df =  merged_df.drop(['DATA_HORA_AVALIACAO'], axis =1 )\n",
    "merged_df = df.drop_duplicates()\n"
   ]
  },
  {
   "cell_type": "code",
   "execution_count": null,
   "id": "a9611232",
   "metadata": {},
   "outputs": [],
   "source": [
    "#Agrupando dados do resultado do DF acima com o DF de acessos dos conteúdos para relacionar cada acesso com o tipo de prova e aluno-disciplina;\n",
    "\n",
    "aluno_disciplina = merged_df.merge(acessos,on=['MATRICULA', 'DISCIPLINA'], how='inner')\n",
    "aluno_disciplina\n"
   ]
  },
  {
   "cell_type": "code",
   "execution_count": null,
   "id": "3511b493",
   "metadata": {},
   "outputs": [],
   "source": [
    "#Forma gráfica para melhor visualizar a relação entre tempo de acesso e os tipos de disciplina\n",
    "sns.jointplot(x ='TEMPO_ACESSO_MINUTOS', y ='TIPO_AVALIACAO', data = aluno_disciplina)"
   ]
  },
  {
   "attachments": {},
   "cell_type": "markdown",
   "id": "924d1777",
   "metadata": {},
   "source": [
    "    Exploração dos dados "
   ]
  },
  {
   "cell_type": "code",
   "execution_count": null,
   "id": "227c8d75",
   "metadata": {},
   "outputs": [],
   "source": [
    "g = sns.PairGrid(aluno_disciplina, diag_sharey=False)\n",
    "g.map_upper(sns.scatterplot, s=15)\n",
    "g.map_lower(sns.kdeplot)\n",
    "g.map_diag(sns.kdeplot, lw=2)"
   ]
  },
  {
   "cell_type": "code",
   "execution_count": null,
   "id": "d0ed6bda",
   "metadata": {},
   "outputs": [],
   "source": []
  },
  {
   "cell_type": "code",
   "execution_count": null,
   "id": "f557a9e0",
   "metadata": {},
   "outputs": [],
   "source": [
    "#Criando coluna de quantidade de disciplinas por aluno e convertendo os valores dos tipos de avaliação em inteiros;\n",
    "#O objetivo é usar a quantidades de disciplinas do aluno como feature para o modelo;\n",
    "aluno_disciplina['QTT_DISCIPLINAS'] = aluno_disciplina.groupby('MATRICULA')['DISCIPLINA'].transform('nunique')\n",
    "\n",
    "#O objetivo é usar o tipo de avaliação como feature para o modelo;\n",
    "aluno_disciplina['TIPO_AVALIACAO'], names_tipo = pd.factorize(aluno_disciplina['TIPO_AVALIACAO'])\n"
   ]
  },
  {
   "cell_type": "code",
   "execution_count": null,
   "id": "2d1dd41d",
   "metadata": {},
   "outputs": [],
   "source": [
    "#Incluindo uma coluna com nova unidade entre a combinação de alunos e disciplinas;\n",
    "#O objetivo disso é incluir aluno-disciplina como feature no modelo;\n",
    "\n",
    "aluno_disciplina['MATRICULA'] = aluno_disciplina['MATRICULA'].astype(str)\n",
    "aluno_disciplina['ALUNO_DISCIPLINA'] = aluno_disciplina['MATRICULA']+aluno_disciplina['DISCIPLINA']\n",
    "aluno_disciplina['ALUNO_DISCIPLINA'] , description_names = pd.factorize(aluno_disciplina['ALUNO_DISCIPLINA'])\n"
   ]
  },
  {
   "attachments": {},
   "cell_type": "markdown",
   "id": "cee65fa5",
   "metadata": {},
   "source": [
    "Com base nos dados, a classificação de uma possível evasão ou não de um aluno se basea em 1 condição;\n",
    "\n",
    "1- Se o aluno faz a prova \"SM\" :\n",
    "\n",
    "obs: testei utilizando outros parametros como \"quantidade de disciplinas\" e \"acessos em minutos\" para definir  uma possível evasão do aluno;"
   ]
  },
  {
   "cell_type": "code",
   "execution_count": null,
   "id": "00a8fe1f",
   "metadata": {},
   "outputs": [],
   "source": [
    "def verificar_evasao(row):\n",
    "    tipo_avaliacao = row['TIPO_AVALIACAO']\n",
    "       \n",
    "    if tipo_avaliacao == 1 :\n",
    "        return 'Não Evadiu'\n",
    "    else:\n",
    "        return 'Evadiu'\n",
    "\n",
    "    \n",
    "#Analisa uma provável evasão em relação tempo de acesso e quantidade de disciplinas;\n",
    "def verificar_provavel_evasao(row):\n",
    "    tipo_avaliacao = row['TIPO_AVALIACAO']\n",
    "    minutos = row['TEMPO_ACESSO_MINUTOS']\n",
    "    qtt_disc = row['QTT_DISCIPLINAS']\n",
    "    \n",
    "    if tipo_avaliacao == 1 and minutos > 10:\n",
    "        return 'unlikely'\n",
    "    if minutos < 20 and qtt_disc < 2:\n",
    "        return 'verylikely'\n",
    "    if qtt_disc < 3 and tipo_avaliacao != 1:\n",
    "        return 'likely'\n",
    "    else:\n",
    "        return 'undefined'\n",
    "    \n",
    "\n",
    "# Criando a nova coluna \"Evasão\" com base na coluna \"Tipo de Avaliação\", indentificando a relação de quem fez a prova SM;\n",
    "# Podendo testar a outra função \"verificar_provavel_evasao\";\n",
    "\n",
    "aluno_disciplina['EVASAO'] = aluno_disciplina.apply(lambda row: verificar_evasao(row), axis=1)\n",
    "aluno_disciplina"
   ]
  },
  {
   "attachments": {},
   "cell_type": "markdown",
   "id": "bf0d0415",
   "metadata": {},
   "source": [
    "      Separação em dados de treinamento e dados de teste"
   ]
  },
  {
   "cell_type": "code",
   "execution_count": null,
   "id": "6a590def",
   "metadata": {},
   "outputs": [],
   "source": [
    "X = aluno_disciplina.drop([\"EVASAO\",\"DISCIPLINA\",\"MATRICULA\"], axis =1 )\n",
    "y = aluno_disciplina[\"EVASAO\"]\n"
   ]
  },
  {
   "cell_type": "code",
   "execution_count": null,
   "id": "2b01d9a7",
   "metadata": {},
   "outputs": [],
   "source": [
    "X_treinamento, X_teste, y_treinamento, y_teste = train_test_split(X, y, test_size=0.3, random_state=42)"
   ]
  },
  {
   "attachments": {},
   "cell_type": "markdown",
   "id": "50b875cf",
   "metadata": {},
   "source": [
    "     Decision Tree "
   ]
  },
  {
   "cell_type": "code",
   "execution_count": null,
   "id": "71fd5523",
   "metadata": {},
   "outputs": [],
   "source": [
    "dtree = DecisionTreeClassifier( max_depth=5, random_state=42)"
   ]
  },
  {
   "cell_type": "code",
   "execution_count": null,
   "id": "24136ecb",
   "metadata": {},
   "outputs": [],
   "source": [
    "dtree.fit(X_treinamento,y_treinamento)"
   ]
  },
  {
   "cell_type": "code",
   "execution_count": null,
   "id": "6d00aaf7",
   "metadata": {},
   "outputs": [],
   "source": [
    "pred = dtree.predict(X_teste)"
   ]
  },
  {
   "cell_type": "code",
   "execution_count": null,
   "id": "fc70f5d3",
   "metadata": {},
   "outputs": [],
   "source": [
    "# Accuracy (acurácia)\n",
    "accuracy = accuracy_score(y_teste, pred)\n",
    "print(\"Accuracy:\", accuracy)\n",
    "\n",
    "# Classification report (relatório de classificação)\n",
    "report = classification_report(y_teste, pred)\n",
    "print(\"Classification Report:\\n\", report)\n",
    "\n",
    "# Confusion matrix (matriz de confusão)\n",
    "confusion = confusion_matrix(y_teste, pred)\n",
    "#print(\"Confusion Matrix:\\n\", confusion)\n",
    "\n",
    "# Precision (precisão)\n",
    "precision = precision_score(y_teste, pred, average='macro')\n",
    "print(\"Precision:\", precision)\n",
    "\n",
    "# F1-score\n",
    "f_score = f1_score(y_teste, pred, average='macro')\n",
    "print(\"F1-Score:\", f_score)"
   ]
  },
  {
   "cell_type": "code",
   "execution_count": null,
   "id": "07327577",
   "metadata": {},
   "outputs": [],
   "source": [
    "# Plotando o mapa de calor da matriz de confusão\n",
    "plt.figure(figsize=(8, 6))\n",
    "sns.heatmap(confusion, annot=True, fmt=\"d\", cmap=\"Blues\")\n",
    "plt.title(\"Matriz de Confusão\")\n",
    "plt.xlabel(\"Predito\")\n",
    "plt.ylabel(\"Real\")\n",
    "plt.show()"
   ]
  },
  {
   "attachments": {},
   "cell_type": "markdown",
   "id": "15265b77",
   "metadata": {},
   "source": [
    "    Random Forest "
   ]
  },
  {
   "cell_type": "code",
   "execution_count": null,
   "id": "b5903870",
   "metadata": {},
   "outputs": [],
   "source": [
    "rfc = RandomForestClassifier(n_estimators=100)"
   ]
  },
  {
   "cell_type": "code",
   "execution_count": null,
   "id": "468374ac",
   "metadata": {},
   "outputs": [],
   "source": [
    "rfc.fit(X_treinamento,y_treinamento)"
   ]
  },
  {
   "cell_type": "code",
   "execution_count": null,
   "id": "b2521171",
   "metadata": {},
   "outputs": [],
   "source": [
    "rfc_pred = rfc.predict(X_teste)"
   ]
  },
  {
   "cell_type": "code",
   "execution_count": null,
   "id": "4997f947",
   "metadata": {},
   "outputs": [],
   "source": []
  },
  {
   "cell_type": "code",
   "execution_count": null,
   "id": "1c2cff0f",
   "metadata": {},
   "outputs": [],
   "source": [
    "\n",
    "# Accuracy (acurácia)\n",
    "accuracy = accuracy_score(y_teste, rfc_pred)\n",
    "print(\"Accuracy:\", accuracy)\n",
    "\n",
    "# Classification report (relatório de classificação)\n",
    "report = classification_report(y_teste, rfc_pred)\n",
    "print(\"Classification Report:\\n\", report)\n",
    "\n",
    "# Confusion matrix (matriz de confusão)\n",
    "rfc_confusion = confusion_matrix(y_teste, rfc_pred)\n",
    "#print(\"Confusion Matrix:\\n\", confusion)\n",
    "\n",
    "# Precision (precisão)\n",
    "precision = precision_score(y_teste, rfc_pred, average='macro')\n",
    "print(\"Precision:\", precision)\n",
    "\n",
    "# F1-score\n",
    "f_score = f1_score(y_teste, rfc_pred, average='macro')\n",
    "print(\"F1-Score:\", f_score)"
   ]
  },
  {
   "cell_type": "code",
   "execution_count": null,
   "id": "ab3e9186",
   "metadata": {},
   "outputs": [],
   "source": [
    "# Plotando o mapa de calor da matriz de confusão\n",
    "plt.figure(figsize=(8, 6))\n",
    "sns.heatmap(rfc_confusion, annot=True, fmt=\"d\", cmap=\"Blues\")\n",
    "plt.title(\"Matriz de Confusão\")\n",
    "plt.xlabel(\"Predito\")\n",
    "plt.ylabel(\"Real\")\n",
    "plt.show()"
   ]
  },
  {
   "cell_type": "code",
   "execution_count": null,
   "id": "68249241",
   "metadata": {},
   "outputs": [],
   "source": []
  },
  {
   "cell_type": "code",
   "execution_count": null,
   "id": "aaadfe37",
   "metadata": {},
   "outputs": [],
   "source": []
  }
 ],
 "metadata": {
  "kernelspec": {
   "display_name": "Python 3 (ipykernel)",
   "language": "python",
   "name": "python3"
  },
  "language_info": {
   "codemirror_mode": {
    "name": "ipython",
    "version": 3
   },
   "file_extension": ".py",
   "mimetype": "text/x-python",
   "name": "python",
   "nbconvert_exporter": "python",
   "pygments_lexer": "ipython3",
   "version": "3.8.10"
  }
 },
 "nbformat": 4,
 "nbformat_minor": 5
}
