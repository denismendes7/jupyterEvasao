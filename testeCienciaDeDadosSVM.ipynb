{
 "cells": [
  {
   "cell_type": "markdown",
   "id": "f79ac88e",
   "metadata": {},
   "source": [
    "Script de desafio de Ciência de Dados\n",
    "\n",
    "Analisar os dados e desenvolver uma solução\n",
    "usando Machine Learning visando identificar evasão de alunos.\n",
    "\n",
    "Necessário instalações:\n",
    "Jupyter notebook;\n",
    "Pandas;\n",
    "Numpy;\n",
    "Matplotlib;\n",
    "Seaborn;\n",
    "Sklearn;\n",
    "\n",
    "Os modelos utilizados para esse desafio foram \"SVM\".\n",
    "\n",
    "obs: Devido a restrições de recursos da máquina, foi necessário utilizar amostragens dos dados durante os processos, visando reduzir a carga no uso do modelo.\n",
    "\n"
   ]
  },
  {
   "cell_type": "code",
   "execution_count": 18,
   "id": "9ae364b3",
   "metadata": {},
   "outputs": [],
   "source": [
    "#Importações necessárias\n",
    "import pandas as pd\n",
    "import numpy as np\n",
    "import matplotlib.pyplot as plt\n",
    "import seaborn as sns\n",
    "%matplotlib inline"
   ]
  },
  {
   "cell_type": "code",
   "execution_count": 2,
   "id": "21834531",
   "metadata": {},
   "outputs": [],
   "source": [
    "from sklearn.tree import DecisionTreeClassifier\n",
    "from sklearn.ensemble import RandomForestClassifier\n",
    "from sklearn.model_selection import train_test_split\n",
    "from sklearn.metrics import accuracy_score,classification_report, confusion_matrix,  precision_score, f1_score\n",
    "\n",
    "from sklearn import svm\n"
   ]
  },
  {
   "cell_type": "code",
   "execution_count": null,
   "id": "a2432595",
   "metadata": {},
   "outputs": [],
   "source": []
  },
  {
   "cell_type": "code",
   "execution_count": 3,
   "id": "b1359074",
   "metadata": {},
   "outputs": [],
   "source": [
    "#Leitura dos dados \n",
    "aluno = pd.read_csv('alunos_teste.csv')\n",
    "alunoSample = aluno.sample(frac=0.001, random_state=50)\n"
   ]
  },
  {
   "cell_type": "code",
   "execution_count": 4,
   "id": "2df8c6d2",
   "metadata": {},
   "outputs": [],
   "source": [
    "#Leitura dos dados \n",
    "provas = pd.read_csv('provas_teste.csv')\n",
    "provasSample = provas.sample(frac=0.001, random_state=50)\n"
   ]
  },
  {
   "cell_type": "code",
   "execution_count": 5,
   "id": "af87f2b3",
   "metadata": {},
   "outputs": [],
   "source": [
    "#Leitura dos dados \n",
    "acessos = pd.read_csv('acessos_conteudo_teste.csv')\n",
    "acessosSample = acessos.sample(frac=0.001, random_state=50)\n",
    "acessos = acessosSample.drop([\"DATA_HORA_ACESSO\"] ,axis= 1)\n"
   ]
  },
  {
   "cell_type": "code",
   "execution_count": null,
   "id": "d6855990",
   "metadata": {},
   "outputs": [],
   "source": [
    "g = sns.PairGrid(acessosSample, diag_sharey=False)\n",
    "g.map_upper(sns.scatterplot, s=15)\n",
    "g.map_lower(sns.kdeplot)\n",
    "g.map_diag(sns.kdeplot, lw=2)"
   ]
  },
  {
   "cell_type": "code",
   "execution_count": 6,
   "id": "03bb223f",
   "metadata": {},
   "outputs": [],
   "source": [
    "#Agrupando DF de matrículas e disciplinas com o DF de provas;\n",
    "#Filtrando só a relação entre alunos e o tipo de prova que foi realizado por cada um;\n",
    "\n",
    "merged_df = aluno.merge( provas, on=['MATRICULA', 'DISCIPLINA'], how='inner')\n",
    "df =  merged_df.drop(['DATA_HORA_AVALIACAO'], axis =1 )\n",
    "merged_df = df.drop_duplicates()\n"
   ]
  },
  {
   "cell_type": "code",
   "execution_count": 7,
   "id": "a9611232",
   "metadata": {},
   "outputs": [
    {
     "data": {
      "text/html": [
       "<div>\n",
       "<style scoped>\n",
       "    .dataframe tbody tr th:only-of-type {\n",
       "        vertical-align: middle;\n",
       "    }\n",
       "\n",
       "    .dataframe tbody tr th {\n",
       "        vertical-align: top;\n",
       "    }\n",
       "\n",
       "    .dataframe thead th {\n",
       "        text-align: right;\n",
       "    }\n",
       "</style>\n",
       "<table border=\"1\" class=\"dataframe\">\n",
       "  <thead>\n",
       "    <tr style=\"text-align: right;\">\n",
       "      <th></th>\n",
       "      <th>MATRICULA</th>\n",
       "      <th>DISCIPLINA</th>\n",
       "      <th>TIPO_AVALIACAO</th>\n",
       "      <th>TEMPO_ACESSO_MINUTOS</th>\n",
       "    </tr>\n",
       "  </thead>\n",
       "  <tbody>\n",
       "    <tr>\n",
       "      <th>0</th>\n",
       "      <td>202009341624</td>\n",
       "      <td>EGT0044</td>\n",
       "      <td>AV</td>\n",
       "      <td>0</td>\n",
       "    </tr>\n",
       "    <tr>\n",
       "      <th>1</th>\n",
       "      <td>202009341624</td>\n",
       "      <td>EGT0044</td>\n",
       "      <td>SM</td>\n",
       "      <td>0</td>\n",
       "    </tr>\n",
       "    <tr>\n",
       "      <th>2</th>\n",
       "      <td>202007128109</td>\n",
       "      <td>EGT0044</td>\n",
       "      <td>SM</td>\n",
       "      <td>0</td>\n",
       "    </tr>\n",
       "    <tr>\n",
       "      <th>3</th>\n",
       "      <td>202007128109</td>\n",
       "      <td>EGT0044</td>\n",
       "      <td>EX</td>\n",
       "      <td>0</td>\n",
       "    </tr>\n",
       "    <tr>\n",
       "      <th>4</th>\n",
       "      <td>202007128109</td>\n",
       "      <td>EGT0044</td>\n",
       "      <td>AV</td>\n",
       "      <td>0</td>\n",
       "    </tr>\n",
       "    <tr>\n",
       "      <th>...</th>\n",
       "      <td>...</td>\n",
       "      <td>...</td>\n",
       "      <td>...</td>\n",
       "      <td>...</td>\n",
       "    </tr>\n",
       "    <tr>\n",
       "      <th>26857</th>\n",
       "      <td>202212133976</td>\n",
       "      <td>ARA1420</td>\n",
       "      <td>SM</td>\n",
       "      <td>9</td>\n",
       "    </tr>\n",
       "    <tr>\n",
       "      <th>26858</th>\n",
       "      <td>202212133976</td>\n",
       "      <td>ARA1420</td>\n",
       "      <td>AV</td>\n",
       "      <td>9</td>\n",
       "    </tr>\n",
       "    <tr>\n",
       "      <th>26859</th>\n",
       "      <td>202203591452</td>\n",
       "      <td>ARA1420</td>\n",
       "      <td>EX</td>\n",
       "      <td>64</td>\n",
       "    </tr>\n",
       "    <tr>\n",
       "      <th>26860</th>\n",
       "      <td>202203591452</td>\n",
       "      <td>ARA1420</td>\n",
       "      <td>SM</td>\n",
       "      <td>64</td>\n",
       "    </tr>\n",
       "    <tr>\n",
       "      <th>26861</th>\n",
       "      <td>202203591452</td>\n",
       "      <td>ARA1420</td>\n",
       "      <td>AV</td>\n",
       "      <td>64</td>\n",
       "    </tr>\n",
       "  </tbody>\n",
       "</table>\n",
       "<p>26862 rows × 4 columns</p>\n",
       "</div>"
      ],
      "text/plain": [
       "          MATRICULA DISCIPLINA TIPO_AVALIACAO  TEMPO_ACESSO_MINUTOS\n",
       "0      202009341624    EGT0044             AV                     0\n",
       "1      202009341624    EGT0044             SM                     0\n",
       "2      202007128109    EGT0044             SM                     0\n",
       "3      202007128109    EGT0044             EX                     0\n",
       "4      202007128109    EGT0044             AV                     0\n",
       "...             ...        ...            ...                   ...\n",
       "26857  202212133976    ARA1420             SM                     9\n",
       "26858  202212133976    ARA1420             AV                     9\n",
       "26859  202203591452    ARA1420             EX                    64\n",
       "26860  202203591452    ARA1420             SM                    64\n",
       "26861  202203591452    ARA1420             AV                    64\n",
       "\n",
       "[26862 rows x 4 columns]"
      ]
     },
     "execution_count": 7,
     "metadata": {},
     "output_type": "execute_result"
    }
   ],
   "source": [
    "#Agrupando dados do resultado do DF acima com o DF de acessos dos conteúdos para relacionar cada acesso com o tipo de prova;\n",
    "\n",
    "aluno_disciplina = merged_df.merge(acessos,on=['MATRICULA', 'DISCIPLINA'], how='inner')\n",
    "aluno_disciplina\n"
   ]
  },
  {
   "cell_type": "code",
   "execution_count": null,
   "id": "3511b493",
   "metadata": {},
   "outputs": [],
   "source": [
    "sns.jointplot(x ='TEMPO_ACESSO_MINUTOS', y ='TIPO_AVALIACAO', data = aluno_disciplina)"
   ]
  },
  {
   "cell_type": "markdown",
   "id": "924d1777",
   "metadata": {},
   "source": [
    "    Exploração dos dados "
   ]
  },
  {
   "cell_type": "code",
   "execution_count": null,
   "id": "227c8d75",
   "metadata": {},
   "outputs": [],
   "source": [
    "g = sns.PairGrid(aluno_disciplina, diag_sharey=False)\n",
    "g.map_upper(sns.scatterplot, s=15)\n",
    "g.map_lower(sns.kdeplot)\n",
    "g.map_diag(sns.kdeplot, lw=2)"
   ]
  },
  {
   "cell_type": "code",
   "execution_count": null,
   "id": "d0ed6bda",
   "metadata": {},
   "outputs": [],
   "source": [
    "sns.jointplot(x ='DISCIPLINA', y ='TEMPO_ACESSO_MINUTOS', data = aluno_disciplina)"
   ]
  },
  {
   "cell_type": "code",
   "execution_count": 8,
   "id": "f557a9e0",
   "metadata": {},
   "outputs": [],
   "source": [
    "#Criando coluna de quantidade de disciplinas por aluno e convertendo os valores dos tipos de avaliação em inteiros;\n",
    "\n",
    "aluno_disciplina['QTT_DISCIPLINAS'] = aluno_disciplina.groupby('MATRICULA')['DISCIPLINA'].transform('nunique')\n",
    "aluno_disciplina['TIPO_AVALIACAO'], names_tipo = pd.factorize(aluno_disciplina['TIPO_AVALIACAO'])\n"
   ]
  },
  {
   "cell_type": "code",
   "execution_count": 9,
   "id": "2d1dd41d",
   "metadata": {},
   "outputs": [],
   "source": [
    "#Incluindo uma coluna com nova unidade entre a combinação de alunos e disciplinas;\n",
    "\n",
    "aluno_disciplina['MATRICULA'] = aluno_disciplina['MATRICULA'].astype(str)\n",
    "aluno_disciplina['ALUNO_DISCIPLINA'] = aluno_disciplina['MATRICULA']+aluno_disciplina['DISCIPLINA']\n",
    "aluno_disciplina['ALUNO_DISCIPLINA'] , description_names = pd.factorize(aluno_disciplina['ALUNO_DISCIPLINA'])\n"
   ]
  },
  {
   "cell_type": "markdown",
   "id": "cee65fa5",
   "metadata": {},
   "source": [
    "Com base nos dados, a classificação de uma possível evasão ou não de um aluno se basea em 1 condição;\n",
    "\n",
    "1- Se o aluno faz a prova \"SM\" :\n",
    "\n",
    "obs: testei utilizando outros parametros como \"quantidade de disciplinas\" e \"acessos em minutos\" para definir  uma possível evasão do aluno;"
   ]
  },
  {
   "cell_type": "code",
   "execution_count": 10,
   "id": "00a8fe1f",
   "metadata": {},
   "outputs": [
    {
     "data": {
      "text/html": [
       "<div>\n",
       "<style scoped>\n",
       "    .dataframe tbody tr th:only-of-type {\n",
       "        vertical-align: middle;\n",
       "    }\n",
       "\n",
       "    .dataframe tbody tr th {\n",
       "        vertical-align: top;\n",
       "    }\n",
       "\n",
       "    .dataframe thead th {\n",
       "        text-align: right;\n",
       "    }\n",
       "</style>\n",
       "<table border=\"1\" class=\"dataframe\">\n",
       "  <thead>\n",
       "    <tr style=\"text-align: right;\">\n",
       "      <th></th>\n",
       "      <th>MATRICULA</th>\n",
       "      <th>DISCIPLINA</th>\n",
       "      <th>TIPO_AVALIACAO</th>\n",
       "      <th>TEMPO_ACESSO_MINUTOS</th>\n",
       "      <th>QTT_DISCIPLINAS</th>\n",
       "      <th>ALUNO_DISCIPLINA</th>\n",
       "      <th>EVASAO</th>\n",
       "    </tr>\n",
       "  </thead>\n",
       "  <tbody>\n",
       "    <tr>\n",
       "      <th>0</th>\n",
       "      <td>202009341624</td>\n",
       "      <td>EGT0044</td>\n",
       "      <td>0</td>\n",
       "      <td>0</td>\n",
       "      <td>1</td>\n",
       "      <td>0</td>\n",
       "      <td>Evadiu</td>\n",
       "    </tr>\n",
       "    <tr>\n",
       "      <th>1</th>\n",
       "      <td>202009341624</td>\n",
       "      <td>EGT0044</td>\n",
       "      <td>1</td>\n",
       "      <td>0</td>\n",
       "      <td>1</td>\n",
       "      <td>0</td>\n",
       "      <td>Não Evadiu</td>\n",
       "    </tr>\n",
       "    <tr>\n",
       "      <th>2</th>\n",
       "      <td>202007128109</td>\n",
       "      <td>EGT0044</td>\n",
       "      <td>1</td>\n",
       "      <td>0</td>\n",
       "      <td>1</td>\n",
       "      <td>1</td>\n",
       "      <td>Não Evadiu</td>\n",
       "    </tr>\n",
       "    <tr>\n",
       "      <th>3</th>\n",
       "      <td>202007128109</td>\n",
       "      <td>EGT0044</td>\n",
       "      <td>2</td>\n",
       "      <td>0</td>\n",
       "      <td>1</td>\n",
       "      <td>1</td>\n",
       "      <td>Evadiu</td>\n",
       "    </tr>\n",
       "    <tr>\n",
       "      <th>4</th>\n",
       "      <td>202007128109</td>\n",
       "      <td>EGT0044</td>\n",
       "      <td>0</td>\n",
       "      <td>0</td>\n",
       "      <td>1</td>\n",
       "      <td>1</td>\n",
       "      <td>Evadiu</td>\n",
       "    </tr>\n",
       "    <tr>\n",
       "      <th>...</th>\n",
       "      <td>...</td>\n",
       "      <td>...</td>\n",
       "      <td>...</td>\n",
       "      <td>...</td>\n",
       "      <td>...</td>\n",
       "      <td>...</td>\n",
       "      <td>...</td>\n",
       "    </tr>\n",
       "    <tr>\n",
       "      <th>26857</th>\n",
       "      <td>202212133976</td>\n",
       "      <td>ARA1420</td>\n",
       "      <td>1</td>\n",
       "      <td>9</td>\n",
       "      <td>1</td>\n",
       "      <td>9539</td>\n",
       "      <td>Não Evadiu</td>\n",
       "    </tr>\n",
       "    <tr>\n",
       "      <th>26858</th>\n",
       "      <td>202212133976</td>\n",
       "      <td>ARA1420</td>\n",
       "      <td>0</td>\n",
       "      <td>9</td>\n",
       "      <td>1</td>\n",
       "      <td>9539</td>\n",
       "      <td>Evadiu</td>\n",
       "    </tr>\n",
       "    <tr>\n",
       "      <th>26859</th>\n",
       "      <td>202203591452</td>\n",
       "      <td>ARA1420</td>\n",
       "      <td>2</td>\n",
       "      <td>64</td>\n",
       "      <td>4</td>\n",
       "      <td>9540</td>\n",
       "      <td>Evadiu</td>\n",
       "    </tr>\n",
       "    <tr>\n",
       "      <th>26860</th>\n",
       "      <td>202203591452</td>\n",
       "      <td>ARA1420</td>\n",
       "      <td>1</td>\n",
       "      <td>64</td>\n",
       "      <td>4</td>\n",
       "      <td>9540</td>\n",
       "      <td>Não Evadiu</td>\n",
       "    </tr>\n",
       "    <tr>\n",
       "      <th>26861</th>\n",
       "      <td>202203591452</td>\n",
       "      <td>ARA1420</td>\n",
       "      <td>0</td>\n",
       "      <td>64</td>\n",
       "      <td>4</td>\n",
       "      <td>9540</td>\n",
       "      <td>Evadiu</td>\n",
       "    </tr>\n",
       "  </tbody>\n",
       "</table>\n",
       "<p>26862 rows × 7 columns</p>\n",
       "</div>"
      ],
      "text/plain": [
       "          MATRICULA DISCIPLINA  TIPO_AVALIACAO  TEMPO_ACESSO_MINUTOS   \n",
       "0      202009341624    EGT0044               0                     0  \\\n",
       "1      202009341624    EGT0044               1                     0   \n",
       "2      202007128109    EGT0044               1                     0   \n",
       "3      202007128109    EGT0044               2                     0   \n",
       "4      202007128109    EGT0044               0                     0   \n",
       "...             ...        ...             ...                   ...   \n",
       "26857  202212133976    ARA1420               1                     9   \n",
       "26858  202212133976    ARA1420               0                     9   \n",
       "26859  202203591452    ARA1420               2                    64   \n",
       "26860  202203591452    ARA1420               1                    64   \n",
       "26861  202203591452    ARA1420               0                    64   \n",
       "\n",
       "       QTT_DISCIPLINAS  ALUNO_DISCIPLINA      EVASAO  \n",
       "0                    1                 0      Evadiu  \n",
       "1                    1                 0  Não Evadiu  \n",
       "2                    1                 1  Não Evadiu  \n",
       "3                    1                 1      Evadiu  \n",
       "4                    1                 1      Evadiu  \n",
       "...                ...               ...         ...  \n",
       "26857                1              9539  Não Evadiu  \n",
       "26858                1              9539      Evadiu  \n",
       "26859                4              9540      Evadiu  \n",
       "26860                4              9540  Não Evadiu  \n",
       "26861                4              9540      Evadiu  \n",
       "\n",
       "[26862 rows x 7 columns]"
      ]
     },
     "execution_count": 10,
     "metadata": {},
     "output_type": "execute_result"
    }
   ],
   "source": [
    "def verificar_evasao(row):\n",
    "    tipo_avaliacao = row['TIPO_AVALIACAO']\n",
    "       \n",
    "    if tipo_avaliacao == 1 :\n",
    "        return 'Não Evadiu'\n",
    "    else:\n",
    "        return 'Evadiu'\n",
    "\n",
    "    \n",
    "#Analisa uma provável evasão em relação tempo de acesso e quantidade de disciplinas;\n",
    "def verificar_provavel_evasao(row):\n",
    "    tipo_avaliacao = row['TIPO_AVALIACAO']\n",
    "    minutos = row['TEMPO_ACESSO_MINUTOS']\n",
    "    qtt_disc = row['QTT_DISCIPLINAS']\n",
    "    \n",
    "    if tipo_avaliacao == 1 and minutos > 10:\n",
    "        return 'unlikely'\n",
    "    if minutos < 20 and qtt_disc < 2:\n",
    "        return 'verylikely'\n",
    "    if qtt_disc < 3 and tipo_avaliacao != 1:\n",
    "        return 'likely'\n",
    "    else:\n",
    "        return 'undefined'\n",
    "    \n",
    "\n",
    "# Criando a nova coluna \"Evasão\" com base na coluna \"Tipo de Avaliação\", indentificando a relação de quem fez a prova SM;\n",
    "# Podendo testar a outra função \"verificar_provavel_evasao\";\n",
    "\n",
    "aluno_disciplina['EVASAO'] = aluno_disciplina.apply(lambda row: verificar_evasao(row), axis=1)\n",
    "aluno_disciplina"
   ]
  },
  {
   "cell_type": "markdown",
   "id": "bf0d0415",
   "metadata": {},
   "source": [
    "      Separação em dados de treinamento e dados de teste"
   ]
  },
  {
   "cell_type": "code",
   "execution_count": 11,
   "id": "6a590def",
   "metadata": {},
   "outputs": [],
   "source": [
    "X = aluno_disciplina.drop([\"EVASAO\",\"DISCIPLINA\",\"MATRICULA\"], axis =1 )\n",
    "y = aluno_disciplina[\"EVASAO\"]\n"
   ]
  },
  {
   "cell_type": "code",
   "execution_count": 12,
   "id": "2b01d9a7",
   "metadata": {},
   "outputs": [],
   "source": [
    "X_treinamento, X_teste, y_treinamento, y_teste = train_test_split(X, y, test_size=0.3, random_state=42)"
   ]
  },
  {
   "cell_type": "markdown",
   "id": "50b875cf",
   "metadata": {},
   "source": [
    "    Máquinas de Vetores de Suporte (Support Vector Machines - SVM)"
   ]
  },
  {
   "cell_type": "code",
   "execution_count": 13,
   "id": "60c829a7",
   "metadata": {},
   "outputs": [],
   "source": [
    "# Criar um classificador SVM\n",
    "clf = svm.SVC(kernel='linear')"
   ]
  },
  {
   "cell_type": "code",
   "execution_count": 14,
   "id": "f2c3709e",
   "metadata": {},
   "outputs": [
    {
     "data": {
      "text/html": [
       "<style>#sk-container-id-1 {color: black;background-color: white;}#sk-container-id-1 pre{padding: 0;}#sk-container-id-1 div.sk-toggleable {background-color: white;}#sk-container-id-1 label.sk-toggleable__label {cursor: pointer;display: block;width: 100%;margin-bottom: 0;padding: 0.3em;box-sizing: border-box;text-align: center;}#sk-container-id-1 label.sk-toggleable__label-arrow:before {content: \"▸\";float: left;margin-right: 0.25em;color: #696969;}#sk-container-id-1 label.sk-toggleable__label-arrow:hover:before {color: black;}#sk-container-id-1 div.sk-estimator:hover label.sk-toggleable__label-arrow:before {color: black;}#sk-container-id-1 div.sk-toggleable__content {max-height: 0;max-width: 0;overflow: hidden;text-align: left;background-color: #f0f8ff;}#sk-container-id-1 div.sk-toggleable__content pre {margin: 0.2em;color: black;border-radius: 0.25em;background-color: #f0f8ff;}#sk-container-id-1 input.sk-toggleable__control:checked~div.sk-toggleable__content {max-height: 200px;max-width: 100%;overflow: auto;}#sk-container-id-1 input.sk-toggleable__control:checked~label.sk-toggleable__label-arrow:before {content: \"▾\";}#sk-container-id-1 div.sk-estimator input.sk-toggleable__control:checked~label.sk-toggleable__label {background-color: #d4ebff;}#sk-container-id-1 div.sk-label input.sk-toggleable__control:checked~label.sk-toggleable__label {background-color: #d4ebff;}#sk-container-id-1 input.sk-hidden--visually {border: 0;clip: rect(1px 1px 1px 1px);clip: rect(1px, 1px, 1px, 1px);height: 1px;margin: -1px;overflow: hidden;padding: 0;position: absolute;width: 1px;}#sk-container-id-1 div.sk-estimator {font-family: monospace;background-color: #f0f8ff;border: 1px dotted black;border-radius: 0.25em;box-sizing: border-box;margin-bottom: 0.5em;}#sk-container-id-1 div.sk-estimator:hover {background-color: #d4ebff;}#sk-container-id-1 div.sk-parallel-item::after {content: \"\";width: 100%;border-bottom: 1px solid gray;flex-grow: 1;}#sk-container-id-1 div.sk-label:hover label.sk-toggleable__label {background-color: #d4ebff;}#sk-container-id-1 div.sk-serial::before {content: \"\";position: absolute;border-left: 1px solid gray;box-sizing: border-box;top: 0;bottom: 0;left: 50%;z-index: 0;}#sk-container-id-1 div.sk-serial {display: flex;flex-direction: column;align-items: center;background-color: white;padding-right: 0.2em;padding-left: 0.2em;position: relative;}#sk-container-id-1 div.sk-item {position: relative;z-index: 1;}#sk-container-id-1 div.sk-parallel {display: flex;align-items: stretch;justify-content: center;background-color: white;position: relative;}#sk-container-id-1 div.sk-item::before, #sk-container-id-1 div.sk-parallel-item::before {content: \"\";position: absolute;border-left: 1px solid gray;box-sizing: border-box;top: 0;bottom: 0;left: 50%;z-index: -1;}#sk-container-id-1 div.sk-parallel-item {display: flex;flex-direction: column;z-index: 1;position: relative;background-color: white;}#sk-container-id-1 div.sk-parallel-item:first-child::after {align-self: flex-end;width: 50%;}#sk-container-id-1 div.sk-parallel-item:last-child::after {align-self: flex-start;width: 50%;}#sk-container-id-1 div.sk-parallel-item:only-child::after {width: 0;}#sk-container-id-1 div.sk-dashed-wrapped {border: 1px dashed gray;margin: 0 0.4em 0.5em 0.4em;box-sizing: border-box;padding-bottom: 0.4em;background-color: white;}#sk-container-id-1 div.sk-label label {font-family: monospace;font-weight: bold;display: inline-block;line-height: 1.2em;}#sk-container-id-1 div.sk-label-container {text-align: center;}#sk-container-id-1 div.sk-container {/* jupyter's `normalize.less` sets `[hidden] { display: none; }` but bootstrap.min.css set `[hidden] { display: none !important; }` so we also need the `!important` here to be able to override the default hidden behavior on the sphinx rendered scikit-learn.org. See: https://github.com/scikit-learn/scikit-learn/issues/21755 */display: inline-block !important;position: relative;}#sk-container-id-1 div.sk-text-repr-fallback {display: none;}</style><div id=\"sk-container-id-1\" class=\"sk-top-container\"><div class=\"sk-text-repr-fallback\"><pre>SVC(kernel=&#x27;linear&#x27;)</pre><b>In a Jupyter environment, please rerun this cell to show the HTML representation or trust the notebook. <br />On GitHub, the HTML representation is unable to render, please try loading this page with nbviewer.org.</b></div><div class=\"sk-container\" hidden><div class=\"sk-item\"><div class=\"sk-estimator sk-toggleable\"><input class=\"sk-toggleable__control sk-hidden--visually\" id=\"sk-estimator-id-1\" type=\"checkbox\" checked><label for=\"sk-estimator-id-1\" class=\"sk-toggleable__label sk-toggleable__label-arrow\">SVC</label><div class=\"sk-toggleable__content\"><pre>SVC(kernel=&#x27;linear&#x27;)</pre></div></div></div></div></div>"
      ],
      "text/plain": [
       "SVC(kernel='linear')"
      ]
     },
     "execution_count": 14,
     "metadata": {},
     "output_type": "execute_result"
    }
   ],
   "source": [
    "\n",
    "# Treinar o modelo com os dados de treinamento\n",
    "clf.fit(X_treinamento, y_treinamento)\n",
    "\n"
   ]
  },
  {
   "cell_type": "code",
   "execution_count": 15,
   "id": "742721b6",
   "metadata": {},
   "outputs": [],
   "source": [
    "# Fazer previsões com os dados de teste\n",
    "y_pred = clf.predict(X_teste)"
   ]
  },
  {
   "cell_type": "code",
   "execution_count": 17,
   "id": "68249241",
   "metadata": {},
   "outputs": [
    {
     "name": "stdout",
     "output_type": "stream",
     "text": [
      "Precisão: 65.18%\n"
     ]
    }
   ],
   "source": [
    "accuracy = accuracy_score(y_teste, y_pred)\n",
    "print(\"Precisão: {:.2f}%\".format(accuracy * 100))"
   ]
  },
  {
   "cell_type": "code",
   "execution_count": null,
   "id": "aaadfe37",
   "metadata": {},
   "outputs": [],
   "source": []
  }
 ],
 "metadata": {
  "kernelspec": {
   "display_name": "Python 3 (ipykernel)",
   "language": "python",
   "name": "python3"
  },
  "language_info": {
   "codemirror_mode": {
    "name": "ipython",
    "version": 3
   },
   "file_extension": ".py",
   "mimetype": "text/x-python",
   "name": "python",
   "nbconvert_exporter": "python",
   "pygments_lexer": "ipython3",
   "version": "3.8.10"
  }
 },
 "nbformat": 4,
 "nbformat_minor": 5
}
